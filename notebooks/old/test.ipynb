{
 "cells": [
  {
   "cell_type": "code",
   "execution_count": null,
   "metadata": {},
   "outputs": [],
   "source": []
  },
  {
   "cell_type": "code",
   "execution_count": 1,
   "metadata": {},
   "outputs": [
    {
     "name": "stdout",
     "output_type": "stream",
     "text": [
      "[[2 2 0 ... 0 0 0]\n",
      " [1 0 0 ... 0 0 0]\n",
      " [2 0 0 ... 0 0 0]\n",
      " ...\n",
      " [2 4 0 ... 0 0 0]\n",
      " [2 4 1 ... 0 0 0]\n",
      " [1 0 0 ... 0 0 0]]\n"
     ]
    },
    {
     "name": "stderr",
     "output_type": "stream",
     "text": [
      "C:\\Users\\Bryan\\AppData\\Roaming\\Python\\Python39\\site-packages\\sklearn\\base.py:324: UserWarning: Trying to unpickle estimator GaussianProcessRegressor from version 1.0 when using version 1.0.1. This might lead to breaking code or invalid results. Use at your own risk. For more info please refer to:\n",
      "https://scikit-learn.org/stable/modules/model_persistence.html#security-maintainability-limitations\n",
      "  warnings.warn(\n"
     ]
    }
   ],
   "source": [
    "import numpy as np\n",
    "import pickle\n",
    "import yaml\n",
    "\n",
    "dir = '../models/second_order/Tc2GP_model.sav'\n",
    "\n",
    "with open(dir, 'rb') as f:\n",
    "  pkl = pickle.load(f)\n",
    "\n",
    "print(pkl.X_train_)"
   ]
  },
  {
   "cell_type": "code",
   "execution_count": 2,
   "metadata": {},
   "outputs": [
    {
     "name": "stdout",
     "output_type": "stream",
     "text": [
      "{'mbt': {'building_blocks': [1, 2, 3, 4, 15, 22, 29, 42, 123], 'constraints': {'NUM_GROUPS': {'min': 3, 'max': 8}, 'NUM_REPEAT_GROUPS': {'min': 0, 'max': 7}, 'NUM_FUNC_GROUPS': {'min': 1, 'max': 6}, 'MOLECULAR_WEIGHT': {'min': 80, 'max': 200}, 'FLASH POINT': {'min': 273, 'max': 393}, 'MELTING_POINT': {'min': 173, 'max': 310}, 'BOILING_POINT': {'min': 373, 'max': 600}, 'LC50': {'min': 0, 'max': 4.8}, 'HSP': {'min': 18, 'max': 21}}, 'num_rings': 'all', 'level': 1}, 'surfactant': {'building_blocks': [1, 2, 3, 4, 5, 6, 7, 8, 9, 10, 15, 20, 21, 22], 'objective': ['min', 'LC_50'], 'constraints': {'NUM_GROUPS': {'min': 20, 'max': 30}, 'NUM_REPEAT_GROUPS': {'min': 0, 'max': 15}, 'NUM_FUNC_GROUPS': {'min': 6, 'max': 10}, 'MOLECULAR_WEIGHT': {'min': 300}, 'MELTING_POINT': {'min': 300}, 'BOILING_POINT': {'min': 400}, 'LC50': {'min': 0, 'max': 4}}, 'num_rings': 'all', 'level': 1}, 'DCM': {'building_blocks': [1, 2, 3, 4, 29, 33, 34, 38, 40, 41, 44, 48, 49, 50, 51], 'objective': ['min', 'LC_50'], 'constraints': {'NUM_GROUPS': {'min': 2, 'max': 8}, 'NUM_REPEAT_GROUPS': {'min': 0, 'max': 2}, 'NUM_FUNC_GROUPS': {'min': 1, 'max': 3}, 'MOLECULAR_WEIGHT': {'min': 0}, 'MELTING_POINT': {'min': 250}, 'BOILING_POINT': {'min': 325, 'max': 425}, 'HSP': {'min': 16, 'max': 19}, 'DENSITY': {'min': 1}}, 'num_rings': 'all', 'level': 1}, 'refrigerant': {'building_blocks': [1, 2, 3, 4, 116, 118, 119, 120, 121, 122], 'objective': ['max', 'ENTHALPY_VAPORIZATION'], 'constraints': {'NUM_GROUPS': {'min': 2, 'max': 6}, 'NUM_REPEAT_GROUPS': {'min': 0, 'max': 2}, 'BOILING_POINT': {'max': 250}, 'CRITICAL_TEMP': {'min': 300, 'max': 390}, 'CRITICAL_PRESSURE': {'min': 30, 'max': 50}, 'ENTHALPY_VAPORIZATION': {'min': 16}, 'VAPOR_PRESSURE': {'min': 550}}, 'num_rings': 'all', 'level': 1}, 'absorbent': {'building_blocks': [1, 2, 3, 4, 29, 54, 55, 56, 57, 58, 59, 60, 61], 'objective': ['min', 'LC_50'], 'constraints': {'NUM_GROUPS': {'min': 3, 'max': 6}, 'NUM_REPEAT_GROUPS': {'min': 0, 'max': 3}, 'NUM_SPECIFIC_GROUPS': {29: {'min': 1}, 'N': {'min': 1}}, 'MOLECULAR_WEIGHT': {'max': 140}, 'FLASH_POINT': {'min': 360}, 'MELTING_POINT': {'max': 325}, 'BOILING_POINT': {'min': 460}, 'ENTHALPY_FORMATION': {'max': -200}, 'VAPOR_PRESSURE': {'max': 500}, 'HSP': {'min': 25, 'max': 30}, 'VISCOSITY': {'max': 100}, 'LC50': {'max': 2.5}}, 'level': 1, 'num_rings': 'all'}}\n"
     ]
    }
   ],
   "source": [
    "import yaml\n",
    "\n",
    "with open('case.yml', 'r') as f:\n",
    "  cases = yaml.safe_load(f)\n",
    "  print(cases)\n",
    "\n",
    "import stable_baselines3"
   ]
  },
  {
   "cell_type": "code",
   "execution_count": 3,
   "metadata": {},
   "outputs": [],
   "source": [
    "\n",
    "import stable_baselines3"
   ]
  },
  {
   "cell_type": "code",
   "execution_count": null,
   "metadata": {},
   "outputs": [],
   "source": []
  }
 ],
 "metadata": {
  "interpreter": {
   "hash": "63fd5069d213b44bf678585dea6b12cceca9941eaf7f819626cde1f2670de90d"
  },
  "kernelspec": {
   "display_name": "Python 3.9.6 64-bit",
   "language": "python",
   "name": "python3"
  },
  "language_info": {
   "codemirror_mode": {
    "name": "ipython",
    "version": 3
   },
   "file_extension": ".py",
   "mimetype": "text/x-python",
   "name": "python",
   "nbconvert_exporter": "python",
   "pygments_lexer": "ipython3",
   "version": "3.9.7"
  },
  "orig_nbformat": 4
 },
 "nbformat": 4,
 "nbformat_minor": 2
}
