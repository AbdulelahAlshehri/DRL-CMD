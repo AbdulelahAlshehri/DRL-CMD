{
 "cells": [
  {
   "cell_type": "code",
   "execution_count": null,
   "metadata": {},
   "outputs": [],
   "source": [
    "from graph import GraphDataLoader, find_fragmentation, frag_to_nx_graph, get_rdmol\n",
    "import pickle\n",
    "import numpy as np\n",
    "import torch"
   ]
  },
  {
   "cell_type": "code",
   "execution_count": null,
   "metadata": {},
   "outputs": [],
   "source": [
    "# ETA ~24 minutes\n",
    "\n",
    "pickle.dump(GraphDataLoader(\"./test/csv/3k.csv\", num_examples=3000).data_np, open('test/gnn_training_set_3k.pickle', 'wb'))\n",
    "\n",
    "pickle.load(open(\"test/gnn_training_set_3k.pickle\", 'rb'))"
   ]
  },
  {
   "cell_type": "code",
   "execution_count": null,
   "metadata": {},
   "outputs": [],
   "source": [
    "smiles, smarts, labels = pickle.load(open('test/gnn_training_set_3k.pickle', 'rb'))\n",
    "from tqdm.notebook import tqdm\n",
    "\n",
    "results = []\n",
    "for i, smile in tqdm(enumerate(smiles)):\n",
    "  if(i != 374):\n",
    "    print(smile)\n",
    "    \n",
    "    mol = get_rdmol(smile)\n",
    "    frag = find_fragmentation(mol, smarts[i])\n",
    "\n",
    "    if frag is not None and np.array_equal(frag.vec, labels[i]):\n",
    "      G = frag_to_nx_graph(frag, mol)\n",
    "      results.append(G)\n",
    "\n",
    "\n",
    "pickle.dump(results, open('gnn/train/train_data_nx_small_2.pickle', 'wb'))"
   ]
  },
  {
   "cell_type": "code",
   "execution_count": 19,
   "metadata": {},
   "outputs": [
    {
     "data": {
      "text/plain": [
       "[Data(edge_index=[2, 4], x=[3, 5]),\n",
       " Data(edge_index=[2, 12], x=[7, 5]),\n",
       " Data(edge_index=[2, 20], x=[11, 5]),\n",
       " Data(edge_index=[2, 16], x=[9, 5]),\n",
       " Data(edge_index=[2, 22], x=[12, 5])]"
      ]
     },
     "execution_count": 19,
     "metadata": {},
     "output_type": "execute_result"
    }
   ],
   "source": [
    "import pickle\n",
    "data = pickle.load(open('./train/train_data_pyg.pickle', 'rb'))\n",
    "import networkx as nx \n",
    "\n",
    "data"
   ]
  },
  {
   "cell_type": "code",
   "execution_count": null,
   "metadata": {},
   "outputs": [],
   "source": []
  }
 ],
 "metadata": {
  "interpreter": {
   "hash": "077457ca1a2b27f9214e9eb9d3b584884ba0253f4dc792ee57bcc0937c10e2bf"
  },
  "kernelspec": {
   "display_name": "Python 3.9.12 ('rl-camd')",
   "language": "python",
   "name": "python3"
  },
  "language_info": {
   "codemirror_mode": {
    "name": "ipython",
    "version": 3
   },
   "file_extension": ".py",
   "mimetype": "text/x-python",
   "name": "python",
   "nbconvert_exporter": "python",
   "pygments_lexer": "ipython3",
   "version": "3.9.12"
  },
  "orig_nbformat": 4
 },
 "nbformat": 4,
 "nbformat_minor": 2
}
